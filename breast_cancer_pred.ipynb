{
 "cells": [
  {
   "cell_type": "markdown",
   "metadata": {},
   "source": [
    "# PREDIKSI PENYAKIT KANKER PAYUDARA DENGAN MENGGUNAKAN METODE K-NEAREST NEIGHBOR (K-NN) DAN SUPPORT VEKTOR MACHINE (SVM)"
   ]
  },
  {
   "cell_type": "code",
   "execution_count": 1,
   "metadata": {},
   "outputs": [],
   "source": [
    "import numpy as np\n",
    "import matplotlib.pyplot as plt\n",
    "import seaborn as sns\n",
    "import pandas as pd\n",
    "\n",
    "from sklearn import preprocessing\n",
    "from sklearn.model_selection import train_test_split\n",
    "from sklearn.metrics import classification_report, confusion_matrix\n",
    "from sklearn.metrics import roc_curve\n",
    "from sklearn.metrics import roc_auc_score"
   ]
  },
  {
   "cell_type": "code",
   "execution_count": 2,
   "metadata": {},
   "outputs": [],
   "source": [
    "# funtion untuk ploting roc curve\n",
    "def plot_roc_curve(fpr, tpr):\n",
    "    plt.plot(fpr, tpr, color='orange', label='ROC')\n",
    "    plt.plot([0, 1], [0, 1], color='darkblue', linestyle='--')\n",
    "    plt.xlabel('False Positive Rate')\n",
    "    plt.ylabel('True Positive Rate')\n",
    "    plt.title('Receiver Operating Characteristic (ROC) Curve')\n",
    "    plt.legend()\n",
    "    plt.show()"
   ]
  },
  {
   "cell_type": "code",
   "execution_count": 3,
   "metadata": {},
   "outputs": [],
   "source": [
    "# membaca dataset hepatitis.data\n",
    "df = pd.read_csv('breast-cancer.data')"
   ]
  },
  {
   "cell_type": "code",
   "execution_count": 4,
   "metadata": {},
   "outputs": [
    {
     "data": {
      "text/plain": [
       "(699, 10)"
      ]
     },
     "execution_count": 4,
     "metadata": {},
     "output_type": "execute_result"
    }
   ],
   "source": [
    "# mengganti dataset missing '?' dengan 0\n",
    "df.replace('?', 0, inplace=True)\n",
    "# Menghapus baris id\n",
    "df.drop(['id'], 1, inplace=True)\n",
    "df.shape"
   ]
  },
  {
   "cell_type": "code",
   "execution_count": 5,
   "metadata": {},
   "outputs": [
    {
     "data": {
      "text/html": [
       "<div>\n",
       "<style scoped>\n",
       "    .dataframe tbody tr th:only-of-type {\n",
       "        vertical-align: middle;\n",
       "    }\n",
       "\n",
       "    .dataframe tbody tr th {\n",
       "        vertical-align: top;\n",
       "    }\n",
       "\n",
       "    .dataframe thead th {\n",
       "        text-align: right;\n",
       "    }\n",
       "</style>\n",
       "<table border=\"1\" class=\"dataframe\">\n",
       "  <thead>\n",
       "    <tr style=\"text-align: right;\">\n",
       "      <th></th>\n",
       "      <th>Clump Thickness</th>\n",
       "      <th>Uniformity of Cell Size</th>\n",
       "      <th>Uniformity of Cell Shape</th>\n",
       "      <th>Marginal Adhesion</th>\n",
       "      <th>Single Epithelial Cell Size</th>\n",
       "      <th>Bare Nuclei</th>\n",
       "      <th>Bland Chromation</th>\n",
       "      <th>Normal Nucleoli</th>\n",
       "      <th>Mitoses</th>\n",
       "      <th>class</th>\n",
       "    </tr>\n",
       "  </thead>\n",
       "  <tbody>\n",
       "    <tr>\n",
       "      <th>0</th>\n",
       "      <td>5</td>\n",
       "      <td>1</td>\n",
       "      <td>1</td>\n",
       "      <td>1</td>\n",
       "      <td>2</td>\n",
       "      <td>1</td>\n",
       "      <td>3</td>\n",
       "      <td>1</td>\n",
       "      <td>1</td>\n",
       "      <td>2</td>\n",
       "    </tr>\n",
       "    <tr>\n",
       "      <th>1</th>\n",
       "      <td>5</td>\n",
       "      <td>4</td>\n",
       "      <td>4</td>\n",
       "      <td>5</td>\n",
       "      <td>7</td>\n",
       "      <td>10</td>\n",
       "      <td>3</td>\n",
       "      <td>2</td>\n",
       "      <td>1</td>\n",
       "      <td>2</td>\n",
       "    </tr>\n",
       "    <tr>\n",
       "      <th>2</th>\n",
       "      <td>3</td>\n",
       "      <td>1</td>\n",
       "      <td>1</td>\n",
       "      <td>1</td>\n",
       "      <td>2</td>\n",
       "      <td>2</td>\n",
       "      <td>3</td>\n",
       "      <td>1</td>\n",
       "      <td>1</td>\n",
       "      <td>2</td>\n",
       "    </tr>\n",
       "    <tr>\n",
       "      <th>3</th>\n",
       "      <td>6</td>\n",
       "      <td>8</td>\n",
       "      <td>8</td>\n",
       "      <td>1</td>\n",
       "      <td>3</td>\n",
       "      <td>4</td>\n",
       "      <td>3</td>\n",
       "      <td>7</td>\n",
       "      <td>1</td>\n",
       "      <td>2</td>\n",
       "    </tr>\n",
       "    <tr>\n",
       "      <th>4</th>\n",
       "      <td>4</td>\n",
       "      <td>1</td>\n",
       "      <td>1</td>\n",
       "      <td>3</td>\n",
       "      <td>2</td>\n",
       "      <td>1</td>\n",
       "      <td>3</td>\n",
       "      <td>1</td>\n",
       "      <td>1</td>\n",
       "      <td>2</td>\n",
       "    </tr>\n",
       "  </tbody>\n",
       "</table>\n",
       "</div>"
      ],
      "text/plain": [
       "   Clump Thickness  Uniformity of Cell Size  Uniformity of Cell Shape  \\\n",
       "0                5                        1                         1   \n",
       "1                5                        4                         4   \n",
       "2                3                        1                         1   \n",
       "3                6                        8                         8   \n",
       "4                4                        1                         1   \n",
       "\n",
       "   Marginal Adhesion  Single Epithelial Cell Size Bare Nuclei  \\\n",
       "0                  1                            2           1   \n",
       "1                  5                            7          10   \n",
       "2                  1                            2           2   \n",
       "3                  1                            3           4   \n",
       "4                  3                            2           1   \n",
       "\n",
       "   Bland Chromation  Normal Nucleoli  Mitoses  class  \n",
       "0                 3                1        1      2  \n",
       "1                 3                2        1      2  \n",
       "2                 3                1        1      2  \n",
       "3                 3                7        1      2  \n",
       "4                 3                1        1      2  "
      ]
     },
     "execution_count": 5,
     "metadata": {},
     "output_type": "execute_result"
    }
   ],
   "source": [
    "# menampilkan 5 dataset pertama\n",
    "df.head()"
   ]
  },
  {
   "cell_type": "code",
   "execution_count": 6,
   "metadata": {},
   "outputs": [],
   "source": [
    "# membagi dataset menjadi 2 yaitu X & y\n",
    "# data X berisi semua baris kecuali baris class\n",
    "X = np.array(df.drop(['class'],1))\n",
    "# data y berisi baris class saja\n",
    "y = np.array(df['class'])\n",
    "# mengubah nilai class dari 2 & 4 menjadi 0 & 1\n",
    "y[y ==  2] = 0\n",
    "y[y ==  4] = 1"
   ]
  },
  {
   "cell_type": "code",
   "execution_count": 7,
   "metadata": {},
   "outputs": [],
   "source": [
    "# split data X & y \n",
    "X_train, X_test, y_train, y_test = train_test_split(X,y,test_size=0.2)"
   ]
  },
  {
   "cell_type": "markdown",
   "metadata": {},
   "source": [
    "# Pengklasifikasian Menggunakan Metode Support Vector Machine (SVM)"
   ]
  },
  {
   "cell_type": "code",
   "execution_count": 8,
   "metadata": {},
   "outputs": [
    {
     "data": {
      "text/plain": [
       "SVC(C=1.0, cache_size=200, class_weight=None, coef0=0.0,\n",
       "    decision_function_shape='ovr', degree=3, gamma='auto_deprecated',\n",
       "    kernel='linear', max_iter=-1, probability=True, random_state=None,\n",
       "    shrinking=True, tol=0.001, verbose=False)"
      ]
     },
     "execution_count": 8,
     "metadata": {},
     "output_type": "execute_result"
    }
   ],
   "source": [
    "# import metode svm dari sklearn\n",
    "from sklearn.svm import SVC\n",
    "svclassifier = SVC(kernel='linear',probability=True)\n",
    "svclassifier.fit(X_train, y_train)"
   ]
  },
  {
   "cell_type": "code",
   "execution_count": 9,
   "metadata": {},
   "outputs": [],
   "source": [
    "svm_pred = svclassifier.predict(X_test)"
   ]
  },
  {
   "cell_type": "code",
   "execution_count": 10,
   "metadata": {},
   "outputs": [
    {
     "name": "stdout",
     "output_type": "stream",
     "text": [
      "\n",
      "SVM confusion matrix: \n",
      "[[94  1]\n",
      " [ 0 45]]\n",
      "Accuracy    : 99.29%\n",
      "Sensitivity : 100.00%\n",
      "Specificity : 97.83%\n",
      "PPV         : 98.95%\n",
      "NPV         : 100.00%\n",
      "\n"
     ]
    }
   ],
   "source": [
    "svm_conf_matrix = confusion_matrix(y_test,svm_pred)\n",
    "svm_tp = svm_conf_matrix[0][0]\n",
    "svm_fp = svm_conf_matrix[0][1]\n",
    "svm_fn = svm_conf_matrix[1][0]\n",
    "svm_tn = svm_conf_matrix[1][1]\n",
    "svm_accuracy = 100*((svm_tp+svm_tn)/(svm_tp+svm_fp+svm_fn+svm_tn))\n",
    "svm_sensitifity = 100*(svm_tp/(svm_tp+svm_fn))\n",
    "svm_specificity = 100*(svm_tn/(svm_tn+svm_fp))\n",
    "svm_ppv = 100*(svm_tp/(svm_tp+svm_fp))\n",
    "svm_npv = 100*(svm_tn/(svm_tn+svm_fn))\n",
    "print(\"\"\"\n",
    "SVM confusion matrix: \n",
    "{}\n",
    "Accuracy    : {}%\n",
    "Sensitivity : {}%\n",
    "Specificity : {}%\n",
    "PPV         : {}%\n",
    "NPV         : {}%\n",
    "\"\"\".format(svm_conf_matrix, \n",
    "           format(svm_accuracy,'.2f'),\n",
    "           format(svm_sensitifity,'.2f'),\n",
    "           format(svm_specificity,'.2f'),\n",
    "           format(svm_ppv,'.2f'),\n",
    "           format(svm_npv,'.2f')))"
   ]
  },
  {
   "cell_type": "code",
   "execution_count": 11,
   "metadata": {},
   "outputs": [],
   "source": [
    "svm_probs = svclassifier.predict_proba(X_test)"
   ]
  },
  {
   "cell_type": "code",
   "execution_count": 12,
   "metadata": {},
   "outputs": [],
   "source": [
    "svm_probs = svm_probs[:, 1]"
   ]
  },
  {
   "cell_type": "code",
   "execution_count": 13,
   "metadata": {},
   "outputs": [
    {
     "name": "stdout",
     "output_type": "stream",
     "text": [
      "SVM AUC: 1.00\n"
     ]
    }
   ],
   "source": [
    "svm_auc = roc_auc_score(y_test, svm_probs)\n",
    "print('SVM AUC: %.2f' % svm_auc)"
   ]
  },
  {
   "cell_type": "code",
   "execution_count": 14,
   "metadata": {},
   "outputs": [],
   "source": [
    "svm_fpr, svm_tpr, svm_thresholds = roc_curve(y_test, svm_probs)"
   ]
  },
  {
   "cell_type": "code",
   "execution_count": 15,
   "metadata": {},
   "outputs": [
    {
     "data": {
      "image/png": "[encoded data removed]",
      "text/plain": [
       "<Figure size 432x288 with 1 Axes>"
      ]
     },
     "metadata": {
      "needs_background": "light"
     },
     "output_type": "display_data"
    }
   ],
   "source": [
    "plot_roc_curve(svm_fpr, svm_tpr)"
   ]
  },
  {
   "cell_type": "markdown",
   "metadata": {},
   "source": [
    "# Pengklasifikasian Menggunakan Metode K-Nearest Neighbors (K-NN)"
   ]
  },
  {
   "cell_type": "code",
   "execution_count": 16,
   "metadata": {},
   "outputs": [
    {
     "data": {
      "text/plain": [
       "KNeighborsClassifier(algorithm='auto', leaf_size=30, metric='minkowski',\n",
       "                     metric_params=None, n_jobs=None, n_neighbors=5, p=2,\n",
       "                     weights='uniform')"
      ]
     },
     "execution_count": 16,
     "metadata": {},
     "output_type": "execute_result"
    }
   ],
   "source": [
    "# import metode K-NN dari sklearn\n",
    "from sklearn import neighbors\n",
    "knnclassifier = neighbors.KNeighborsClassifier()\n",
    "knnclassifier.fit(X_train, y_train)"
   ]
  },
  {
   "cell_type": "code",
   "execution_count": 17,
   "metadata": {},
   "outputs": [],
   "source": [
    "knn_pred = knnclassifier.predict(X_test)"
   ]
  },
  {
   "cell_type": "code",
   "execution_count": 18,
   "metadata": {},
   "outputs": [
    {
     "name": "stdout",
     "output_type": "stream",
     "text": [
      "\n",
      "KNN confusion matrix: \n",
      "[[94  1]\n",
      " [ 1 44]]\n",
      "Accuracy    : 98.57%\n",
      "Sensitivity : 98.95%\n",
      "Specificity : 97.78%\n",
      "PPV         : 98.95%\n",
      "NPV         : 97.78%\n",
      "\n"
     ]
    }
   ],
   "source": [
    "knn_conf_matrix = confusion_matrix(y_test,knn_pred)\n",
    "knn_tp = knn_conf_matrix[0][0]\n",
    "knn_fp = knn_conf_matrix[0][1]\n",
    "knn_fn = knn_conf_matrix[1][0]\n",
    "knn_tn = knn_conf_matrix[1][1]\n",
    "knn_accuracy = 100*((knn_tp+knn_tn)/(knn_tp+knn_fp+knn_fn+knn_tn))\n",
    "knn_sensitifity = 100*(knn_tp/(knn_tp+knn_fn))\n",
    "knn_specificity = 100*(knn_tn/(knn_tn+knn_fp))\n",
    "knn_ppv = 100*(knn_tp/(knn_tp+knn_fp))\n",
    "knn_npv = 100*(knn_tn/(knn_tn+knn_fn))\n",
    "print(\"\"\"\n",
    "KNN confusion matrix: \n",
    "{}\n",
    "Accuracy    : {}%\n",
    "Sensitivity : {}%\n",
    "Specificity : {}%\n",
    "PPV         : {}%\n",
    "NPV         : {}%\n",
    "\"\"\".format(knn_conf_matrix, \n",
    "           format(knn_accuracy,'.2f'),\n",
    "           format(knn_sensitifity,'.2f'),\n",
    "           format(knn_specificity,'.2f'),\n",
    "           format(knn_ppv,'.2f'),\n",
    "           format(knn_npv,'.2f')))"
   ]
  },
  {
   "cell_type": "code",
   "execution_count": 19,
   "metadata": {},
   "outputs": [],
   "source": [
    "knn_probs = knnclassifier.predict_proba(X_test)"
   ]
  },
  {
   "cell_type": "code",
   "execution_count": 20,
   "metadata": {},
   "outputs": [],
   "source": [
    "knn_probs = knn_probs[:, 1]"
   ]
  },
  {
   "cell_type": "code",
   "execution_count": 21,
   "metadata": {},
   "outputs": [
    {
     "name": "stdout",
     "output_type": "stream",
     "text": [
      "KNN AUC: 0.99\n"
     ]
    }
   ],
   "source": [
    "knn_auc = roc_auc_score(y_test, knn_probs)\n",
    "print('KNN AUC: %.2f' % knn_auc)"
   ]
  },
  {
   "cell_type": "code",
   "execution_count": 22,
   "metadata": {},
   "outputs": [],
   "source": [
    "knn_fpr, knn_tpr, knn_thresholds = roc_curve(y_test, knn_probs)"
   ]
  },
  {
   "cell_type": "code",
   "execution_count": 23,
   "metadata": {},
   "outputs": [
    {
     "data": {
      "image/png": "[encoded data removed]",
      "text/plain": [
       "<Figure size 432x288 with 1 Axes>"
      ]
     },
     "metadata": {
      "needs_background": "light"
     },
     "output_type": "display_data"
    }
   ],
   "source": [
    "plot_roc_curve(knn_fpr, knn_tpr)"
   ]
  },
  {
   "cell_type": "markdown",
   "metadata": {},
   "source": [
    "# PERBANDINGAN ROC CURVE ANTARA KNN DAN SVM"
   ]
  },
  {
   "cell_type": "code",
   "execution_count": 24,
   "metadata": {},
   "outputs": [],
   "source": [
    "# fungsi untuk membuat ploting perbandingan roc curve\n",
    "def plot_compare_roc_curve(fpr1, tpr1, fpr2, tpr2):\n",
    "    plt.plot(fpr1, tpr1, color='red', label='SVM')\n",
    "    plt.plot(fpr2, tpr2, color='green', label='KNN')\n",
    "    plt.plot([0, 1], [0, 1], color='darkblue', linestyle='--')\n",
    "    plt.xlabel('False Positive Rate')\n",
    "    plt.ylabel('True Positive Rate')\n",
    "    plt.title('Receiver Operating Characteristic (ROC) Curve')\n",
    "    plt.legend()\n",
    "    plt.show()"
   ]
  },
  {
   "cell_type": "code",
   "execution_count": 25,
   "metadata": {},
   "outputs": [
    {
     "data": {
      "image/png": "[encoded data removed]",
      "text/plain": [
       "<Figure size 432x288 with 1 Axes>"
      ]
     },
     "metadata": {
      "needs_background": "light"
     },
     "output_type": "display_data"
    }
   ],
   "source": [
    "plot_compare_roc_curve(svm_fpr, svm_tpr, knn_fpr, knn_tpr)"
   ]
  }
 ],
 "metadata": {
  "kernelspec": {
   "display_name": "Python 3",
   "language": "python",
   "name": "python3"
  },
  "language_info": {
   "codemirror_mode": {
    "name": "ipython",
    "version": 3
   },
   "file_extension": ".py",
   "mimetype": "text/x-python",
   "name": "python",
   "nbconvert_exporter": "python",
   "pygments_lexer": "ipython3",
   "version": "3.7.3"
  }
 },
 "nbformat": 4,
 "nbformat_minor": 2
}
